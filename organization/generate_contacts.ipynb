{
  "nbformat": 4,
  "nbformat_minor": 0,
  "metadata": {
    "colab": {
      "name": "generate-contacts.ipynb",
      "provenance": [],
      "private_outputs": true
    },
    "kernelspec": {
      "name": "python3",
      "display_name": "Python 3"
    }
  },
  "cells": [
    {
      "cell_type": "markdown",
      "metadata": {
        "id": "drgfGWbhGGOL",
        "colab_type": "text"
      },
      "source": [
        "# Generate Contacts\n",
        "\n",
        "This notebook fetches a spreadsheet where in not excluded worksheets the column 0 contains full name and column 2 contains phone number from Google Drive and then generates a CSV file compatible with Google Contacts. User should check sections related to handling of name, surname and phone number before using the generated data for production."
      ]
    },
    {
      "cell_type": "markdown",
      "metadata": {
        "id": "NrxLJP6cGgUB",
        "colab_type": "text"
      },
      "source": [
        "## Load Dependencies"
      ]
    },
    {
      "cell_type": "code",
      "metadata": {
        "id": "4I_QKxNMGAdg",
        "colab_type": "code",
        "colab": {}
      },
      "source": [
        "!pip install --upgrade -q gspread"
      ],
      "execution_count": 0,
      "outputs": []
    },
    {
      "cell_type": "markdown",
      "metadata": {
        "id": "9ZE8UEeXGlwg",
        "colab_type": "text"
      },
      "source": [
        "## Import Dependencies\n",
        "This notebook depends on Google Colab, Google Spreadsheet, Oauth2client Helper, Regex modules to function."
      ]
    },
    {
      "cell_type": "code",
      "metadata": {
        "id": "36vYhTPlGqtx",
        "colab_type": "code",
        "colab": {}
      },
      "source": [
        "from google.colab import auth, files\n",
        "import gspread\n",
        "from oauth2client.client import GoogleCredentials\n",
        "import re"
      ],
      "execution_count": 0,
      "outputs": []
    },
    {
      "cell_type": "markdown",
      "metadata": {
        "id": "Z1Tz8IGHHPlD",
        "colab_type": "text"
      },
      "source": [
        "## Define Constants"
      ]
    },
    {
      "cell_type": "code",
      "metadata": {
        "id": "7oUxst6VHWqM",
        "colab_type": "code",
        "colab": {}
      },
      "source": [
        "header = 'Name,Given Name,Additional Name,Family Name,Yomi Name,Given Name Yomi,Additional Name Yomi,Family Name Yomi,Name Prefix,Name Suffix,Initials,Nickname,Short Name,Maiden Name,Birthday,Gender,Location,Billing Information,Directory Server,Mileage,Occupation,Hobby,Sensitivity,Priority,Subject,Notes,Language,Photo,Group Membership,Phone 1 - Type,Phone 1 - Value,Phone 2 - Type,Phone 2 - Value,Organization 1 - Type,Organization 1 - Name,Organization 1 - Yomi Name,Organization 1 - Title,Organization 1 - Department,Organization 1 - Symbol,Organization 1 - Location,Organization 1 - Job Description'\n",
        "spreadsheet_name = ''\n",
        "worksheets_to_exclude = [ '' ]\n",
        "sample_phone_number = '900000000000'\n",
        "file_name = 'contacts.csv'"
      ],
      "execution_count": 0,
      "outputs": []
    },
    {
      "cell_type": "markdown",
      "metadata": {
        "id": "-_Jj95GFH1Vd",
        "colab_type": "text"
      },
      "source": [
        "## Authorize Runtime"
      ]
    },
    {
      "cell_type": "code",
      "metadata": {
        "id": "uEC07A2-H4WG",
        "colab_type": "code",
        "colab": {}
      },
      "source": [
        "auth.authenticate_user()\n",
        "gc = gspread.authorize(GoogleCredentials.get_application_default())"
      ],
      "execution_count": 0,
      "outputs": []
    },
    {
      "cell_type": "markdown",
      "metadata": {
        "id": "40TQDXhcJJCU",
        "colab_type": "text"
      },
      "source": [
        "## Open Spreadsheet"
      ]
    },
    {
      "cell_type": "code",
      "metadata": {
        "id": "Hf71dKU3JOiQ",
        "colab_type": "code",
        "colab": {}
      },
      "source": [
        "spreadsheet = gc.open(spreadsheet_name)"
      ],
      "execution_count": 0,
      "outputs": []
    },
    {
      "cell_type": "markdown",
      "metadata": {
        "id": "R6c0P6nbIBjH",
        "colab_type": "text"
      },
      "source": [
        "## Define Row Builder\n",
        "Google Contacts CSV format has many fields but this notebook is only concerned with name and number fields."
      ]
    },
    {
      "cell_type": "code",
      "metadata": {
        "id": "RW7u4E2zIQMm",
        "colab_type": "code",
        "colab": {}
      },
      "source": [
        "def build(name, surname, number):\n",
        "    return '{} {},{},,{},,,,,,,,,,,,,,,,,,,,,,,,,* myContacts,Mobile,{},,,,,,,,,,'.format(\n",
        "        name,\n",
        "        surname,\n",
        "        name,\n",
        "        surname,\n",
        "        number\n",
        "    )"
      ],
      "execution_count": 0,
      "outputs": []
    },
    {
      "cell_type": "markdown",
      "metadata": {
        "id": "WJpvVU99IV_P",
        "colab_type": "text"
      },
      "source": [
        "## Generate Rows"
      ]
    },
    {
      "cell_type": "code",
      "metadata": {
        "id": "68B_xrqoIYeg",
        "colab_type": "code",
        "colab": {}
      },
      "source": [
        "data = [ header ]\n",
        "\n",
        "for worksheet in spreadsheet.worksheets():\n",
        "    if worksheet.title not in worksheets_to_exclude:\n",
        "        rows = worksheet.get_all_values()\n",
        "        for row in rows[1:]:\n",
        "            full_name = row[0].strip()\n",
        "            surname = full_name.split(' ')[-1]\n",
        "            name = ' '.join(full_name.split(' ')[0:-1])\n",
        "            number = re.sub('[^0-9]', '', row[2].strip())\n",
        "            if len(number) == len(sample_phone_number):\n",
        "                data.append(build(name, surname, '+' + number))\n",
        "\n",
        "print(len(data))"
      ],
      "execution_count": 0,
      "outputs": []
    },
    {
      "cell_type": "markdown",
      "metadata": {
        "id": "Y_SZ4_JbJVQx",
        "colab_type": "text"
      },
      "source": [
        "## Download File"
      ]
    },
    {
      "cell_type": "code",
      "metadata": {
        "id": "7RZ29k9bJXyt",
        "colab_type": "code",
        "colab": {}
      },
      "source": [
        "with open(file_name, 'w') as f:\n",
        "    for section in data:\n",
        "        f.write(section)\n",
        "        f.write('\\n')\n",
        "\n",
        "files.download(file_name)"
      ],
      "execution_count": 0,
      "outputs": []
    }
  ]
}
